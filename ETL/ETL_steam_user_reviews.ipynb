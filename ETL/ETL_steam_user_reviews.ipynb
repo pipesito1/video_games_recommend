{
 "cells": [
  {
   "cell_type": "code",
   "execution_count": 6,
   "metadata": {},
   "outputs": [],
   "source": [
    "import pandas as pd\n",
    "import gzip as gzip\n",
    "import ast\n",
    "import json"
   ]
  },
  {
   "cell_type": "code",
   "execution_count": 7,
   "metadata": {},
   "outputs": [],
   "source": [
    "#se carga el dataset user reviews\n",
    "archivo = \"../dataSet/user_reviews.json.gz\"\n",
    "\n",
    "data = []\n",
    "\n",
    "#se lee cada linea\n",
    "with gzip.open(archivo, 'rt', encoding='utf-8') as file:\n",
    "    for line in file:\n",
    "        try:\n",
    "            json_data = ast.literal_eval(line)\n",
    "            data.append(json_data)\n",
    "        except ValueError as e:\n",
    "            print(f\"Error en la línea: {line}\")\n",
    "            continue\n",
    "\n",
    "df_user_reviews = pd.DataFrame(data)\n"
   ]
  },
  {
   "cell_type": "code",
   "execution_count": 8,
   "metadata": {},
   "outputs": [
    {
     "data": {
      "text/html": [
       "<div>\n",
       "<style scoped>\n",
       "    .dataframe tbody tr th:only-of-type {\n",
       "        vertical-align: middle;\n",
       "    }\n",
       "\n",
       "    .dataframe tbody tr th {\n",
       "        vertical-align: top;\n",
       "    }\n",
       "\n",
       "    .dataframe thead th {\n",
       "        text-align: right;\n",
       "    }\n",
       "</style>\n",
       "<table border=\"1\" class=\"dataframe\">\n",
       "  <thead>\n",
       "    <tr style=\"text-align: right;\">\n",
       "      <th></th>\n",
       "      <th>user_id</th>\n",
       "      <th>user_url</th>\n",
       "      <th>reviews</th>\n",
       "    </tr>\n",
       "  </thead>\n",
       "  <tbody>\n",
       "    <tr>\n",
       "      <th>0</th>\n",
       "      <td>76561197970982479</td>\n",
       "      <td>http://steamcommunity.com/profiles/76561197970...</td>\n",
       "      <td>[{'funny': '', 'posted': 'Posted November 5, 2...</td>\n",
       "    </tr>\n",
       "    <tr>\n",
       "      <th>1</th>\n",
       "      <td>js41637</td>\n",
       "      <td>http://steamcommunity.com/id/js41637</td>\n",
       "      <td>[{'funny': '', 'posted': 'Posted June 24, 2014...</td>\n",
       "    </tr>\n",
       "    <tr>\n",
       "      <th>2</th>\n",
       "      <td>evcentric</td>\n",
       "      <td>http://steamcommunity.com/id/evcentric</td>\n",
       "      <td>[{'funny': '', 'posted': 'Posted February 3.',...</td>\n",
       "    </tr>\n",
       "    <tr>\n",
       "      <th>3</th>\n",
       "      <td>doctr</td>\n",
       "      <td>http://steamcommunity.com/id/doctr</td>\n",
       "      <td>[{'funny': '', 'posted': 'Posted October 14, 2...</td>\n",
       "    </tr>\n",
       "    <tr>\n",
       "      <th>4</th>\n",
       "      <td>maplemage</td>\n",
       "      <td>http://steamcommunity.com/id/maplemage</td>\n",
       "      <td>[{'funny': '3 people found this review funny',...</td>\n",
       "    </tr>\n",
       "  </tbody>\n",
       "</table>\n",
       "</div>"
      ],
      "text/plain": [
       "             user_id                                           user_url  \\\n",
       "0  76561197970982479  http://steamcommunity.com/profiles/76561197970...   \n",
       "1            js41637               http://steamcommunity.com/id/js41637   \n",
       "2          evcentric             http://steamcommunity.com/id/evcentric   \n",
       "3              doctr                 http://steamcommunity.com/id/doctr   \n",
       "4          maplemage             http://steamcommunity.com/id/maplemage   \n",
       "\n",
       "                                             reviews  \n",
       "0  [{'funny': '', 'posted': 'Posted November 5, 2...  \n",
       "1  [{'funny': '', 'posted': 'Posted June 24, 2014...  \n",
       "2  [{'funny': '', 'posted': 'Posted February 3.',...  \n",
       "3  [{'funny': '', 'posted': 'Posted October 14, 2...  \n",
       "4  [{'funny': '3 people found this review funny',...  "
      ]
     },
     "execution_count": 8,
     "metadata": {},
     "output_type": "execute_result"
    }
   ],
   "source": [
    "df_user_reviews.head()"
   ]
  },
  {
   "cell_type": "code",
   "execution_count": 9,
   "metadata": {},
   "outputs": [
    {
     "name": "stdout",
     "output_type": "stream",
     "text": [
      "<class 'pandas.core.frame.DataFrame'>\n",
      "RangeIndex: 25799 entries, 0 to 25798\n",
      "Data columns (total 3 columns):\n",
      " #   Column    Non-Null Count  Dtype \n",
      "---  ------    --------------  ----- \n",
      " 0   user_id   25799 non-null  object\n",
      " 1   user_url  25799 non-null  object\n",
      " 2   reviews   25799 non-null  object\n",
      "dtypes: object(3)\n",
      "memory usage: 604.8+ KB\n"
     ]
    }
   ],
   "source": [
    "df_user_reviews.info()"
   ]
  },
  {
   "cell_type": "code",
   "execution_count": 10,
   "metadata": {},
   "outputs": [
    {
     "data": {
      "text/html": [
       "<div>\n",
       "<style scoped>\n",
       "    .dataframe tbody tr th:only-of-type {\n",
       "        vertical-align: middle;\n",
       "    }\n",
       "\n",
       "    .dataframe tbody tr th {\n",
       "        vertical-align: top;\n",
       "    }\n",
       "\n",
       "    .dataframe thead th {\n",
       "        text-align: right;\n",
       "    }\n",
       "</style>\n",
       "<table border=\"1\" class=\"dataframe\">\n",
       "  <thead>\n",
       "    <tr style=\"text-align: right;\">\n",
       "      <th></th>\n",
       "      <th>user_id</th>\n",
       "      <th>user_url</th>\n",
       "      <th>reviews</th>\n",
       "    </tr>\n",
       "  </thead>\n",
       "  <tbody>\n",
       "    <tr>\n",
       "      <th>9</th>\n",
       "      <td>76561198156664158</td>\n",
       "      <td>http://steamcommunity.com/profiles/76561198156...</td>\n",
       "      <td>[{'funny': '', 'posted': 'Posted June 16.', 'l...</td>\n",
       "    </tr>\n",
       "    <tr>\n",
       "      <th>50</th>\n",
       "      <td>Rivtex</td>\n",
       "      <td>http://steamcommunity.com/id/Rivtex</td>\n",
       "      <td>[{'funny': '', 'posted': 'Posted December 23, ...</td>\n",
       "    </tr>\n",
       "    <tr>\n",
       "      <th>83</th>\n",
       "      <td>76561198094224872</td>\n",
       "      <td>http://steamcommunity.com/profiles/76561198094...</td>\n",
       "      <td>[]</td>\n",
       "    </tr>\n",
       "    <tr>\n",
       "      <th>119</th>\n",
       "      <td>DieMadchenschanderin</td>\n",
       "      <td>http://steamcommunity.com/id/DieMadchenschanderin</td>\n",
       "      <td>[{'funny': '', 'posted': 'Posted August 29, 20...</td>\n",
       "    </tr>\n",
       "    <tr>\n",
       "      <th>147</th>\n",
       "      <td>relesprit</td>\n",
       "      <td>http://steamcommunity.com/id/relesprit</td>\n",
       "      <td>[{'funny': '', 'posted': 'Posted December 27, ...</td>\n",
       "    </tr>\n",
       "    <tr>\n",
       "      <th>...</th>\n",
       "      <td>...</td>\n",
       "      <td>...</td>\n",
       "      <td>...</td>\n",
       "    </tr>\n",
       "    <tr>\n",
       "      <th>17819</th>\n",
       "      <td>76561198076474887</td>\n",
       "      <td>http://steamcommunity.com/profiles/76561198076...</td>\n",
       "      <td>[{'funny': '', 'posted': 'Posted April 12.', '...</td>\n",
       "    </tr>\n",
       "    <tr>\n",
       "      <th>17916</th>\n",
       "      <td>yolofaceguy</td>\n",
       "      <td>http://steamcommunity.com/id/yolofaceguy</td>\n",
       "      <td>[{'funny': '', 'posted': 'Posted October 31, 2...</td>\n",
       "    </tr>\n",
       "    <tr>\n",
       "      <th>18028</th>\n",
       "      <td>76561198075591109</td>\n",
       "      <td>http://steamcommunity.com/profiles/76561198075...</td>\n",
       "      <td>[{'funny': '', 'posted': 'Posted December 26, ...</td>\n",
       "    </tr>\n",
       "    <tr>\n",
       "      <th>18234</th>\n",
       "      <td>76561198092022514</td>\n",
       "      <td>http://steamcommunity.com/profiles/76561198092...</td>\n",
       "      <td>[{'funny': '', 'posted': 'Posted July 3.', 'la...</td>\n",
       "    </tr>\n",
       "    <tr>\n",
       "      <th>18309</th>\n",
       "      <td>SuchGayMuchWow</td>\n",
       "      <td>http://steamcommunity.com/id/SuchGayMuchWow</td>\n",
       "      <td>[{'funny': '', 'posted': 'Posted July 18, 2015...</td>\n",
       "    </tr>\n",
       "  </tbody>\n",
       "</table>\n",
       "<p>623 rows × 3 columns</p>\n",
       "</div>"
      ],
      "text/plain": [
       "                    user_id  \\\n",
       "9         76561198156664158   \n",
       "50                   Rivtex   \n",
       "83        76561198094224872   \n",
       "119    DieMadchenschanderin   \n",
       "147               relesprit   \n",
       "...                     ...   \n",
       "17819     76561198076474887   \n",
       "17916           yolofaceguy   \n",
       "18028     76561198075591109   \n",
       "18234     76561198092022514   \n",
       "18309        SuchGayMuchWow   \n",
       "\n",
       "                                                user_url  \\\n",
       "9      http://steamcommunity.com/profiles/76561198156...   \n",
       "50                   http://steamcommunity.com/id/Rivtex   \n",
       "83     http://steamcommunity.com/profiles/76561198094...   \n",
       "119    http://steamcommunity.com/id/DieMadchenschanderin   \n",
       "147               http://steamcommunity.com/id/relesprit   \n",
       "...                                                  ...   \n",
       "17819  http://steamcommunity.com/profiles/76561198076...   \n",
       "17916           http://steamcommunity.com/id/yolofaceguy   \n",
       "18028  http://steamcommunity.com/profiles/76561198075...   \n",
       "18234  http://steamcommunity.com/profiles/76561198092...   \n",
       "18309        http://steamcommunity.com/id/SuchGayMuchWow   \n",
       "\n",
       "                                                 reviews  \n",
       "9      [{'funny': '', 'posted': 'Posted June 16.', 'l...  \n",
       "50     [{'funny': '', 'posted': 'Posted December 23, ...  \n",
       "83                                                    []  \n",
       "119    [{'funny': '', 'posted': 'Posted August 29, 20...  \n",
       "147    [{'funny': '', 'posted': 'Posted December 27, ...  \n",
       "...                                                  ...  \n",
       "17819  [{'funny': '', 'posted': 'Posted April 12.', '...  \n",
       "17916  [{'funny': '', 'posted': 'Posted October 31, 2...  \n",
       "18028  [{'funny': '', 'posted': 'Posted December 26, ...  \n",
       "18234  [{'funny': '', 'posted': 'Posted July 3.', 'la...  \n",
       "18309  [{'funny': '', 'posted': 'Posted July 18, 2015...  \n",
       "\n",
       "[623 rows x 3 columns]"
      ]
     },
     "execution_count": 10,
     "metadata": {},
     "output_type": "execute_result"
    }
   ],
   "source": [
    "#1. identificar los registros duplicados que tiene la columna id\n",
    "duplicated_user = df_user_reviews[df_user_reviews.duplicated('user_id', keep=False)]\n",
    "\n",
    "#2. #1. mostrar los registros duplicados que tiene la columna id\n",
    "duplicated_user"
   ]
  },
  {
   "cell_type": "code",
   "execution_count": 11,
   "metadata": {},
   "outputs": [
    {
     "name": "stdout",
     "output_type": "stream",
     "text": [
      "love it\n",
      "----------------------------------------\n",
      "love it\n",
      "----------------------------------------\n"
     ]
    }
   ],
   "source": [
    "# Se revisa un usuario de ejemplo\n",
    "user_id = '76561198156664158'\n",
    "user_reviews = duplicated_user[duplicated_user['user_id'] == user_id]['reviews']\n",
    "\n",
    "for review_list in user_reviews:\n",
    "    for review in review_list:\n",
    "        print(review['review'])\n",
    "    print('-' * 40)"
   ]
  },
  {
   "cell_type": "code",
   "execution_count": 12,
   "metadata": {},
   "outputs": [],
   "source": [
    "# Eliminar duplicados en la columna 'user_id', manteniendo solo la primera aparición\n",
    "df_user_reviews = df_user_reviews.drop_duplicates(subset='user_id', keep='first')"
   ]
  },
  {
   "cell_type": "code",
   "execution_count": 13,
   "metadata": {},
   "outputs": [
    {
     "data": {
      "text/plain": [
       "[{'funny': '',\n",
       "  'posted': 'Posted November 5, 2011.',\n",
       "  'last_edited': '',\n",
       "  'item_id': '1250',\n",
       "  'helpful': 'No ratings yet',\n",
       "  'recommend': True,\n",
       "  'review': 'Simple yet with great replayability. In my opinion does \"zombie\" hordes and team work better than left 4 dead plus has a global leveling system. Alot of down to earth \"zombie\" splattering fun for the whole family. Amazed this sort of FPS is so rare.'},\n",
       " {'funny': '',\n",
       "  'posted': 'Posted July 15, 2011.',\n",
       "  'last_edited': '',\n",
       "  'item_id': '22200',\n",
       "  'helpful': 'No ratings yet',\n",
       "  'recommend': True,\n",
       "  'review': \"It's unique and worth a playthrough.\"},\n",
       " {'funny': '',\n",
       "  'posted': 'Posted April 21, 2011.',\n",
       "  'last_edited': '',\n",
       "  'item_id': '43110',\n",
       "  'helpful': 'No ratings yet',\n",
       "  'recommend': True,\n",
       "  'review': 'Great atmosphere. The gunplay can be a bit chunky at times but at the end of the day this game is definitely worth it and I hope they do a sequel...so buy the game so I get a sequel!'}]"
      ]
     },
     "execution_count": 13,
     "metadata": {},
     "output_type": "execute_result"
    }
   ],
   "source": [
    "# Se observa el tipo de dato que contiene 'review'\n",
    "df_user_reviews['reviews'][0]"
   ]
  },
  {
   "cell_type": "code",
   "execution_count": 14,
   "metadata": {},
   "outputs": [],
   "source": [
    "#cada una de las datos que se encuentra que se encuentra en el diccionario de reviews se tranforma en filas\n",
    "df_user_reviews = df_user_reviews.explode('reviews').reset_index(drop=True)"
   ]
  },
  {
   "cell_type": "markdown",
   "metadata": {},
   "source": [
    "Transformacion de la columna 'reviews'\n",
    "\n",
    "la columna 'reviews' se encuentra anidada, que tiene mas de un diccionario, se debe hacer una columna por cada diccionario,"
   ]
  },
  {
   "cell_type": "code",
   "execution_count": 15,
   "metadata": {},
   "outputs": [
    {
     "data": {
      "text/html": [
       "<div>\n",
       "<style scoped>\n",
       "    .dataframe tbody tr th:only-of-type {\n",
       "        vertical-align: middle;\n",
       "    }\n",
       "\n",
       "    .dataframe tbody tr th {\n",
       "        vertical-align: top;\n",
       "    }\n",
       "\n",
       "    .dataframe thead th {\n",
       "        text-align: right;\n",
       "    }\n",
       "</style>\n",
       "<table border=\"1\" class=\"dataframe\">\n",
       "  <thead>\n",
       "    <tr style=\"text-align: right;\">\n",
       "      <th></th>\n",
       "      <th>funny</th>\n",
       "      <th>posted</th>\n",
       "      <th>last_edited</th>\n",
       "      <th>item_id</th>\n",
       "      <th>helpful</th>\n",
       "      <th>recommend</th>\n",
       "      <th>review</th>\n",
       "    </tr>\n",
       "  </thead>\n",
       "  <tbody>\n",
       "    <tr>\n",
       "      <th>0</th>\n",
       "      <td></td>\n",
       "      <td>Posted November 5, 2011.</td>\n",
       "      <td></td>\n",
       "      <td>1250</td>\n",
       "      <td>No ratings yet</td>\n",
       "      <td>True</td>\n",
       "      <td>Simple yet with great replayability. In my opi...</td>\n",
       "    </tr>\n",
       "    <tr>\n",
       "      <th>1</th>\n",
       "      <td></td>\n",
       "      <td>Posted July 15, 2011.</td>\n",
       "      <td></td>\n",
       "      <td>22200</td>\n",
       "      <td>No ratings yet</td>\n",
       "      <td>True</td>\n",
       "      <td>It's unique and worth a playthrough.</td>\n",
       "    </tr>\n",
       "    <tr>\n",
       "      <th>2</th>\n",
       "      <td></td>\n",
       "      <td>Posted April 21, 2011.</td>\n",
       "      <td></td>\n",
       "      <td>43110</td>\n",
       "      <td>No ratings yet</td>\n",
       "      <td>True</td>\n",
       "      <td>Great atmosphere. The gunplay can be a bit chu...</td>\n",
       "    </tr>\n",
       "    <tr>\n",
       "      <th>3</th>\n",
       "      <td></td>\n",
       "      <td>Posted June 24, 2014.</td>\n",
       "      <td></td>\n",
       "      <td>251610</td>\n",
       "      <td>15 of 20 people (75%) found this review helpful</td>\n",
       "      <td>True</td>\n",
       "      <td>I know what you think when you see this title ...</td>\n",
       "    </tr>\n",
       "    <tr>\n",
       "      <th>4</th>\n",
       "      <td></td>\n",
       "      <td>Posted September 8, 2013.</td>\n",
       "      <td></td>\n",
       "      <td>227300</td>\n",
       "      <td>0 of 1 people (0%) found this review helpful</td>\n",
       "      <td>True</td>\n",
       "      <td>For a simple (it's actually not all that simpl...</td>\n",
       "    </tr>\n",
       "  </tbody>\n",
       "</table>\n",
       "</div>"
      ],
      "text/plain": [
       "  funny                     posted last_edited item_id  \\\n",
       "0         Posted November 5, 2011.                1250   \n",
       "1            Posted July 15, 2011.               22200   \n",
       "2           Posted April 21, 2011.               43110   \n",
       "3            Posted June 24, 2014.              251610   \n",
       "4        Posted September 8, 2013.              227300   \n",
       "\n",
       "                                           helpful recommend  \\\n",
       "0                                   No ratings yet      True   \n",
       "1                                   No ratings yet      True   \n",
       "2                                   No ratings yet      True   \n",
       "3  15 of 20 people (75%) found this review helpful      True   \n",
       "4     0 of 1 people (0%) found this review helpful      True   \n",
       "\n",
       "                                              review  \n",
       "0  Simple yet with great replayability. In my opi...  \n",
       "1               It's unique and worth a playthrough.  \n",
       "2  Great atmosphere. The gunplay can be a bit chu...  \n",
       "3  I know what you think when you see this title ...  \n",
       "4  For a simple (it's actually not all that simpl...  "
      ]
     },
     "execution_count": 15,
     "metadata": {},
     "output_type": "execute_result"
    }
   ],
   "source": [
    "# Se transforma a columnas cada elemento de las lista anidada\n",
    "df_user_reviews2 = pd.json_normalize(df_user_reviews['reviews'])\n",
    "df_user_reviews2.head()"
   ]
  },
  {
   "cell_type": "code",
   "execution_count": 16,
   "metadata": {},
   "outputs": [],
   "source": [
    "#se selecciona las columnas 'review' y 'item_id'\n",
    "df_user_reviews2 = df_user_reviews2[['review', 'item_id', 'recommend']]"
   ]
  },
  {
   "cell_type": "code",
   "execution_count": 17,
   "metadata": {},
   "outputs": [
    {
     "data": {
      "text/html": [
       "<div>\n",
       "<style scoped>\n",
       "    .dataframe tbody tr th:only-of-type {\n",
       "        vertical-align: middle;\n",
       "    }\n",
       "\n",
       "    .dataframe tbody tr th {\n",
       "        vertical-align: top;\n",
       "    }\n",
       "\n",
       "    .dataframe thead th {\n",
       "        text-align: right;\n",
       "    }\n",
       "</style>\n",
       "<table border=\"1\" class=\"dataframe\">\n",
       "  <thead>\n",
       "    <tr style=\"text-align: right;\">\n",
       "      <th></th>\n",
       "      <th>review</th>\n",
       "      <th>item_id</th>\n",
       "      <th>recommend</th>\n",
       "    </tr>\n",
       "  </thead>\n",
       "  <tbody>\n",
       "    <tr>\n",
       "      <th>0</th>\n",
       "      <td>Simple yet with great replayability. In my opi...</td>\n",
       "      <td>1250</td>\n",
       "      <td>True</td>\n",
       "    </tr>\n",
       "    <tr>\n",
       "      <th>1</th>\n",
       "      <td>It's unique and worth a playthrough.</td>\n",
       "      <td>22200</td>\n",
       "      <td>True</td>\n",
       "    </tr>\n",
       "    <tr>\n",
       "      <th>2</th>\n",
       "      <td>Great atmosphere. The gunplay can be a bit chu...</td>\n",
       "      <td>43110</td>\n",
       "      <td>True</td>\n",
       "    </tr>\n",
       "    <tr>\n",
       "      <th>3</th>\n",
       "      <td>I know what you think when you see this title ...</td>\n",
       "      <td>251610</td>\n",
       "      <td>True</td>\n",
       "    </tr>\n",
       "    <tr>\n",
       "      <th>4</th>\n",
       "      <td>For a simple (it's actually not all that simpl...</td>\n",
       "      <td>227300</td>\n",
       "      <td>True</td>\n",
       "    </tr>\n",
       "    <tr>\n",
       "      <th>...</th>\n",
       "      <td>...</td>\n",
       "      <td>...</td>\n",
       "      <td>...</td>\n",
       "    </tr>\n",
       "    <tr>\n",
       "      <th>58453</th>\n",
       "      <td>a must have classic from steam definitely wort...</td>\n",
       "      <td>70</td>\n",
       "      <td>True</td>\n",
       "    </tr>\n",
       "    <tr>\n",
       "      <th>58454</th>\n",
       "      <td>this game is a perfect remake of the original ...</td>\n",
       "      <td>362890</td>\n",
       "      <td>True</td>\n",
       "    </tr>\n",
       "    <tr>\n",
       "      <th>58455</th>\n",
       "      <td>had so much fun plaing this and collecting res...</td>\n",
       "      <td>273110</td>\n",
       "      <td>True</td>\n",
       "    </tr>\n",
       "    <tr>\n",
       "      <th>58456</th>\n",
       "      <td>:D</td>\n",
       "      <td>730</td>\n",
       "      <td>True</td>\n",
       "    </tr>\n",
       "    <tr>\n",
       "      <th>58457</th>\n",
       "      <td>so much fun :D</td>\n",
       "      <td>440</td>\n",
       "      <td>True</td>\n",
       "    </tr>\n",
       "  </tbody>\n",
       "</table>\n",
       "<p>58458 rows × 3 columns</p>\n",
       "</div>"
      ],
      "text/plain": [
       "                                                  review item_id recommend\n",
       "0      Simple yet with great replayability. In my opi...    1250      True\n",
       "1                   It's unique and worth a playthrough.   22200      True\n",
       "2      Great atmosphere. The gunplay can be a bit chu...   43110      True\n",
       "3      I know what you think when you see this title ...  251610      True\n",
       "4      For a simple (it's actually not all that simpl...  227300      True\n",
       "...                                                  ...     ...       ...\n",
       "58453  a must have classic from steam definitely wort...      70      True\n",
       "58454  this game is a perfect remake of the original ...  362890      True\n",
       "58455  had so much fun plaing this and collecting res...  273110      True\n",
       "58456                                                 :D     730      True\n",
       "58457                                     so much fun :D     440      True\n",
       "\n",
       "[58458 rows x 3 columns]"
      ]
     },
     "execution_count": 17,
     "metadata": {},
     "output_type": "execute_result"
    }
   ],
   "source": [
    "df_user_reviews2"
   ]
  },
  {
   "cell_type": "code",
   "execution_count": 18,
   "metadata": {},
   "outputs": [],
   "source": [
    "# Se eliminan las filas con valor None\n",
    "df_user_reviews2 = df_user_reviews2.dropna()\n",
    "# Se verifica que solo queden el 'user_id' con la cantidad de diccionarios que le corresponde\n"
   ]
  },
  {
   "cell_type": "code",
   "execution_count": 19,
   "metadata": {},
   "outputs": [
    {
     "name": "stdout",
     "output_type": "stream",
     "text": [
      "Index(['review', 'item_id', 'recommend'], dtype='object')\n"
     ]
    }
   ],
   "source": [
    "print(df_user_reviews2.columns)"
   ]
  },
  {
   "cell_type": "code",
   "execution_count": 20,
   "metadata": {},
   "outputs": [
    {
     "name": "stderr",
     "output_type": "stream",
     "text": [
      "[nltk_data] Downloading package vader_lexicon to C:\\Users\\BORDADO Y\n",
      "[nltk_data]     ESTAMPADO\\AppData\\Roaming\\nltk_data...\n",
      "[nltk_data]   Package vader_lexicon is already up-to-date!\n"
     ]
    }
   ],
   "source": [
    "# se importa la libreria nltk para hacerle analisis de sentimiento a la review\n",
    "import nltk\n",
    "from nltk.sentiment.vader import SentimentIntensityAnalyzer\n",
    "nltk.download('vader_lexicon')\n",
    "analisis= SentimentIntensityAnalyzer()"
   ]
  },
  {
   "cell_type": "code",
   "execution_count": 21,
   "metadata": {},
   "outputs": [],
   "source": [
    "#se crea una funcion que analisa el sentimiento\n",
    "def AnalisisSent(text):\n",
    "    senti= analisis.polarity_scores(text)\n",
    "    senti= senti['compound']\n",
    "    return  senti"
   ]
  },
  {
   "cell_type": "code",
   "execution_count": 22,
   "metadata": {},
   "outputs": [
    {
     "name": "stderr",
     "output_type": "stream",
     "text": [
      "C:\\Users\\BORDADO Y ESTAMPADO\\AppData\\Local\\Temp\\ipykernel_16888\\2964428939.py:2: SettingWithCopyWarning: \n",
      "A value is trying to be set on a copy of a slice from a DataFrame.\n",
      "Try using .loc[row_indexer,col_indexer] = value instead\n",
      "\n",
      "See the caveats in the documentation: https://pandas.pydata.org/pandas-docs/stable/user_guide/indexing.html#returning-a-view-versus-a-copy\n",
      "  df_user_reviews2['sentimentanalysis'] = df_user_reviews2['review'].apply(AnalisisSent)\n"
     ]
    }
   ],
   "source": [
    "# se crea una nueva columna que contiene el analisis de sentimiento\n",
    "df_user_reviews2['sentimentanalysis'] = df_user_reviews2['review'].apply(AnalisisSent)"
   ]
  },
  {
   "cell_type": "code",
   "execution_count": 23,
   "metadata": {},
   "outputs": [
    {
     "data": {
      "text/html": [
       "<div>\n",
       "<style scoped>\n",
       "    .dataframe tbody tr th:only-of-type {\n",
       "        vertical-align: middle;\n",
       "    }\n",
       "\n",
       "    .dataframe tbody tr th {\n",
       "        vertical-align: top;\n",
       "    }\n",
       "\n",
       "    .dataframe thead th {\n",
       "        text-align: right;\n",
       "    }\n",
       "</style>\n",
       "<table border=\"1\" class=\"dataframe\">\n",
       "  <thead>\n",
       "    <tr style=\"text-align: right;\">\n",
       "      <th></th>\n",
       "      <th>review</th>\n",
       "      <th>item_id</th>\n",
       "      <th>recommend</th>\n",
       "      <th>sentimentanalysis</th>\n",
       "    </tr>\n",
       "  </thead>\n",
       "  <tbody>\n",
       "    <tr>\n",
       "      <th>0</th>\n",
       "      <td>Simple yet with great replayability. In my opi...</td>\n",
       "      <td>1250</td>\n",
       "      <td>True</td>\n",
       "      <td>0.8481</td>\n",
       "    </tr>\n",
       "    <tr>\n",
       "      <th>1</th>\n",
       "      <td>It's unique and worth a playthrough.</td>\n",
       "      <td>22200</td>\n",
       "      <td>True</td>\n",
       "      <td>0.2263</td>\n",
       "    </tr>\n",
       "    <tr>\n",
       "      <th>2</th>\n",
       "      <td>Great atmosphere. The gunplay can be a bit chu...</td>\n",
       "      <td>43110</td>\n",
       "      <td>True</td>\n",
       "      <td>0.9117</td>\n",
       "    </tr>\n",
       "    <tr>\n",
       "      <th>3</th>\n",
       "      <td>I know what you think when you see this title ...</td>\n",
       "      <td>251610</td>\n",
       "      <td>True</td>\n",
       "      <td>0.9566</td>\n",
       "    </tr>\n",
       "    <tr>\n",
       "      <th>4</th>\n",
       "      <td>For a simple (it's actually not all that simpl...</td>\n",
       "      <td>227300</td>\n",
       "      <td>True</td>\n",
       "      <td>0.9708</td>\n",
       "    </tr>\n",
       "    <tr>\n",
       "      <th>...</th>\n",
       "      <td>...</td>\n",
       "      <td>...</td>\n",
       "      <td>...</td>\n",
       "      <td>...</td>\n",
       "    </tr>\n",
       "    <tr>\n",
       "      <th>58453</th>\n",
       "      <td>a must have classic from steam definitely wort...</td>\n",
       "      <td>70</td>\n",
       "      <td>True</td>\n",
       "      <td>0.5574</td>\n",
       "    </tr>\n",
       "    <tr>\n",
       "      <th>58454</th>\n",
       "      <td>this game is a perfect remake of the original ...</td>\n",
       "      <td>362890</td>\n",
       "      <td>True</td>\n",
       "      <td>0.9786</td>\n",
       "    </tr>\n",
       "    <tr>\n",
       "      <th>58455</th>\n",
       "      <td>had so much fun plaing this and collecting res...</td>\n",
       "      <td>273110</td>\n",
       "      <td>True</td>\n",
       "      <td>0.7827</td>\n",
       "    </tr>\n",
       "    <tr>\n",
       "      <th>58456</th>\n",
       "      <td>:D</td>\n",
       "      <td>730</td>\n",
       "      <td>True</td>\n",
       "      <td>0.5106</td>\n",
       "    </tr>\n",
       "    <tr>\n",
       "      <th>58457</th>\n",
       "      <td>so much fun :D</td>\n",
       "      <td>440</td>\n",
       "      <td>True</td>\n",
       "      <td>0.8349</td>\n",
       "    </tr>\n",
       "  </tbody>\n",
       "</table>\n",
       "<p>58430 rows × 4 columns</p>\n",
       "</div>"
      ],
      "text/plain": [
       "                                                  review item_id recommend  \\\n",
       "0      Simple yet with great replayability. In my opi...    1250      True   \n",
       "1                   It's unique and worth a playthrough.   22200      True   \n",
       "2      Great atmosphere. The gunplay can be a bit chu...   43110      True   \n",
       "3      I know what you think when you see this title ...  251610      True   \n",
       "4      For a simple (it's actually not all that simpl...  227300      True   \n",
       "...                                                  ...     ...       ...   \n",
       "58453  a must have classic from steam definitely wort...      70      True   \n",
       "58454  this game is a perfect remake of the original ...  362890      True   \n",
       "58455  had so much fun plaing this and collecting res...  273110      True   \n",
       "58456                                                 :D     730      True   \n",
       "58457                                     so much fun :D     440      True   \n",
       "\n",
       "       sentimentanalysis  \n",
       "0                 0.8481  \n",
       "1                 0.2263  \n",
       "2                 0.9117  \n",
       "3                 0.9566  \n",
       "4                 0.9708  \n",
       "...                  ...  \n",
       "58453             0.5574  \n",
       "58454             0.9786  \n",
       "58455             0.7827  \n",
       "58456             0.5106  \n",
       "58457             0.8349  \n",
       "\n",
       "[58430 rows x 4 columns]"
      ]
     },
     "execution_count": 23,
     "metadata": {},
     "output_type": "execute_result"
    }
   ],
   "source": [
    "#se muestra el dataset nuevo con la columna que creamos anteriormente\n",
    "df_user_reviews2"
   ]
  },
  {
   "cell_type": "markdown",
   "metadata": {},
   "source": [
    "podemos ver que el sentimiento de los usuarios  a cerca de la mayoria de juegos es bueno o positivo ya que se encuentrar por encima de el cero y algunos se acercan a 1"
   ]
  },
  {
   "cell_type": "code",
   "execution_count": 21,
   "metadata": {},
   "outputs": [],
   "source": [
    "#se elimina la columna revies por que no es necesaria\n",
    "#df_user_reviews2 = df_user_reviews2.drop('review', axis=1)"
   ]
  },
  {
   "cell_type": "code",
   "execution_count": 25,
   "metadata": {},
   "outputs": [
    {
     "data": {
      "text/plain": [
       "review                object\n",
       "item_id               object\n",
       "recommend             object\n",
       "sentimentanalysis    float64\n",
       "dtype: object"
      ]
     },
     "execution_count": 25,
     "metadata": {},
     "output_type": "execute_result"
    }
   ],
   "source": [
    "df_user_reviews2.dtypes"
   ]
  },
  {
   "cell_type": "markdown",
   "metadata": {},
   "source": [
    "Se guarda el conjunto de datos transformado como `user_review_clean`. "
   ]
  },
  {
   "cell_type": "code",
   "execution_count": 26,
   "metadata": {},
   "outputs": [
    {
     "name": "stdout",
     "output_type": "stream",
     "text": [
      "Se guardó el archivo ../dataSet/user_review_clean.parquet\n"
     ]
    }
   ],
   "source": [
    "file_user_clean = '../dataSet/user_review_clean.parquet'\n",
    "df_user_reviews2.to_parquet(file_user_clean, index=False)\n",
    "print(f'Se guardó el archivo {file_user_clean}')"
   ]
  }
 ],
 "metadata": {
  "kernelspec": {
   "display_name": "Python 3",
   "language": "python",
   "name": "python3"
  },
  "language_info": {
   "codemirror_mode": {
    "name": "ipython",
    "version": 3
   },
   "file_extension": ".py",
   "mimetype": "text/x-python",
   "name": "python",
   "nbconvert_exporter": "python",
   "pygments_lexer": "ipython3",
   "version": "3.11.4"
  }
 },
 "nbformat": 4,
 "nbformat_minor": 2
}

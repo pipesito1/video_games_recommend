{
 "cells": [
  {
   "cell_type": "code",
   "execution_count": 2,
   "metadata": {},
   "outputs": [],
   "source": [
    "import pandas as pd\n",
    "import numpy as np\n",
    "import matplotlib.pyplot as plt\n",
    "import seaborn as sns\n",
    "from sklearn.feature_extraction.text import TfidfVectorizer\n",
    "from sklearn.metrics.pairwise import cosine_similarity\n",
    "import matplotlib.pyplot as plt"
   ]
  },
  {
   "cell_type": "code",
   "execution_count": 3,
   "metadata": {},
   "outputs": [],
   "source": [
    "data_review = pd.read_parquet(\"dataSet/user_review_clean.parquet\")"
   ]
  },
  {
   "cell_type": "code",
   "execution_count": 4,
   "metadata": {},
   "outputs": [
    {
     "data": {
      "text/html": [
       "<div>\n",
       "<style scoped>\n",
       "    .dataframe tbody tr th:only-of-type {\n",
       "        vertical-align: middle;\n",
       "    }\n",
       "\n",
       "    .dataframe tbody tr th {\n",
       "        vertical-align: top;\n",
       "    }\n",
       "\n",
       "    .dataframe thead th {\n",
       "        text-align: right;\n",
       "    }\n",
       "</style>\n",
       "<table border=\"1\" class=\"dataframe\">\n",
       "  <thead>\n",
       "    <tr style=\"text-align: right;\">\n",
       "      <th></th>\n",
       "      <th>item_id</th>\n",
       "      <th>feeling_negative</th>\n",
       "      <th>feeling_positive</th>\n",
       "      <th>feeling_neutral</th>\n",
       "    </tr>\n",
       "  </thead>\n",
       "  <tbody>\n",
       "    <tr>\n",
       "      <th>0</th>\n",
       "      <td>10</td>\n",
       "      <td>2</td>\n",
       "      <td>34</td>\n",
       "      <td>20</td>\n",
       "    </tr>\n",
       "    <tr>\n",
       "      <th>1</th>\n",
       "      <td>10090</td>\n",
       "      <td>6</td>\n",
       "      <td>39</td>\n",
       "      <td>6</td>\n",
       "    </tr>\n",
       "    <tr>\n",
       "      <th>2</th>\n",
       "      <td>10130</td>\n",
       "      <td>0</td>\n",
       "      <td>2</td>\n",
       "      <td>0</td>\n",
       "    </tr>\n",
       "    <tr>\n",
       "      <th>3</th>\n",
       "      <td>10140</td>\n",
       "      <td>1</td>\n",
       "      <td>0</td>\n",
       "      <td>0</td>\n",
       "    </tr>\n",
       "    <tr>\n",
       "      <th>4</th>\n",
       "      <td>10150</td>\n",
       "      <td>1</td>\n",
       "      <td>7</td>\n",
       "      <td>1</td>\n",
       "    </tr>\n",
       "  </tbody>\n",
       "</table>\n",
       "</div>"
      ],
      "text/plain": [
       "  item_id  feeling_negative  feeling_positive  feeling_neutral\n",
       "0      10                 2                34               20\n",
       "1   10090                 6                39                6\n",
       "2   10130                 0                 2                0\n",
       "3   10140                 1                 0                0\n",
       "4   10150                 1                 7                1"
      ]
     },
     "execution_count": 4,
     "metadata": {},
     "output_type": "execute_result"
    }
   ],
   "source": [
    "data_review.head(5)"
   ]
  },
  {
   "cell_type": "code",
   "execution_count": 5,
   "metadata": {},
   "outputs": [],
   "source": [
    "data_games = pd.read_parquet(\"dataSet/steam_game_clean.parquet\")"
   ]
  },
  {
   "cell_type": "code",
   "execution_count": 6,
   "metadata": {},
   "outputs": [
    {
     "data": {
      "text/html": [
       "<div>\n",
       "<style scoped>\n",
       "    .dataframe tbody tr th:only-of-type {\n",
       "        vertical-align: middle;\n",
       "    }\n",
       "\n",
       "    .dataframe tbody tr th {\n",
       "        vertical-align: top;\n",
       "    }\n",
       "\n",
       "    .dataframe thead th {\n",
       "        text-align: right;\n",
       "    }\n",
       "</style>\n",
       "<table border=\"1\" class=\"dataframe\">\n",
       "  <thead>\n",
       "    <tr style=\"text-align: right;\">\n",
       "      <th></th>\n",
       "      <th>publisher</th>\n",
       "      <th>genres</th>\n",
       "      <th>app_name</th>\n",
       "      <th>title</th>\n",
       "      <th>price</th>\n",
       "      <th>early_access</th>\n",
       "      <th>id</th>\n",
       "      <th>developer</th>\n",
       "      <th>Year</th>\n",
       "    </tr>\n",
       "  </thead>\n",
       "  <tbody>\n",
       "    <tr>\n",
       "      <th>0</th>\n",
       "      <td>Kotoshiro</td>\n",
       "      <td>Action</td>\n",
       "      <td>Lost Summoner Kitty</td>\n",
       "      <td>Lost Summoner Kitty</td>\n",
       "      <td>4.99</td>\n",
       "      <td>False</td>\n",
       "      <td>761140</td>\n",
       "      <td>Kotoshiro</td>\n",
       "      <td>2018.0</td>\n",
       "    </tr>\n",
       "    <tr>\n",
       "      <th>1</th>\n",
       "      <td>Kotoshiro</td>\n",
       "      <td>Casual</td>\n",
       "      <td>Lost Summoner Kitty</td>\n",
       "      <td>Lost Summoner Kitty</td>\n",
       "      <td>4.99</td>\n",
       "      <td>False</td>\n",
       "      <td>761140</td>\n",
       "      <td>Kotoshiro</td>\n",
       "      <td>2018.0</td>\n",
       "    </tr>\n",
       "    <tr>\n",
       "      <th>2</th>\n",
       "      <td>Kotoshiro</td>\n",
       "      <td>Indie</td>\n",
       "      <td>Lost Summoner Kitty</td>\n",
       "      <td>Lost Summoner Kitty</td>\n",
       "      <td>4.99</td>\n",
       "      <td>False</td>\n",
       "      <td>761140</td>\n",
       "      <td>Kotoshiro</td>\n",
       "      <td>2018.0</td>\n",
       "    </tr>\n",
       "    <tr>\n",
       "      <th>3</th>\n",
       "      <td>Kotoshiro</td>\n",
       "      <td>Simulation</td>\n",
       "      <td>Lost Summoner Kitty</td>\n",
       "      <td>Lost Summoner Kitty</td>\n",
       "      <td>4.99</td>\n",
       "      <td>False</td>\n",
       "      <td>761140</td>\n",
       "      <td>Kotoshiro</td>\n",
       "      <td>2018.0</td>\n",
       "    </tr>\n",
       "    <tr>\n",
       "      <th>4</th>\n",
       "      <td>Kotoshiro</td>\n",
       "      <td>Strategy</td>\n",
       "      <td>Lost Summoner Kitty</td>\n",
       "      <td>Lost Summoner Kitty</td>\n",
       "      <td>4.99</td>\n",
       "      <td>False</td>\n",
       "      <td>761140</td>\n",
       "      <td>Kotoshiro</td>\n",
       "      <td>2018.0</td>\n",
       "    </tr>\n",
       "  </tbody>\n",
       "</table>\n",
       "</div>"
      ],
      "text/plain": [
       "   publisher      genres             app_name                title  price  \\\n",
       "0  Kotoshiro      Action  Lost Summoner Kitty  Lost Summoner Kitty   4.99   \n",
       "1  Kotoshiro      Casual  Lost Summoner Kitty  Lost Summoner Kitty   4.99   \n",
       "2  Kotoshiro       Indie  Lost Summoner Kitty  Lost Summoner Kitty   4.99   \n",
       "3  Kotoshiro  Simulation  Lost Summoner Kitty  Lost Summoner Kitty   4.99   \n",
       "4  Kotoshiro    Strategy  Lost Summoner Kitty  Lost Summoner Kitty   4.99   \n",
       "\n",
       "   early_access      id  developer    Year  \n",
       "0         False  761140  Kotoshiro  2018.0  \n",
       "1         False  761140  Kotoshiro  2018.0  \n",
       "2         False  761140  Kotoshiro  2018.0  \n",
       "3         False  761140  Kotoshiro  2018.0  \n",
       "4         False  761140  Kotoshiro  2018.0  "
      ]
     },
     "execution_count": 6,
     "metadata": {},
     "output_type": "execute_result"
    }
   ],
   "source": [
    "data_games.head(5)"
   ]
  },
  {
   "cell_type": "code",
   "execution_count": 7,
   "metadata": {},
   "outputs": [],
   "source": [
    "#toma una columna 'title', para filtrar todos los duplicados luego tomamos el primer valor que nos da.\n",
    "data_games.drop_duplicates(subset='title', keep='first', inplace=True)"
   ]
  },
  {
   "cell_type": "code",
   "execution_count": 403,
   "metadata": {},
   "outputs": [
    {
     "data": {
      "text/html": [
       "<div>\n",
       "<style scoped>\n",
       "    .dataframe tbody tr th:only-of-type {\n",
       "        vertical-align: middle;\n",
       "    }\n",
       "\n",
       "    .dataframe tbody tr th {\n",
       "        vertical-align: top;\n",
       "    }\n",
       "\n",
       "    .dataframe thead th {\n",
       "        text-align: right;\n",
       "    }\n",
       "</style>\n",
       "<table border=\"1\" class=\"dataframe\">\n",
       "  <thead>\n",
       "    <tr style=\"text-align: right;\">\n",
       "      <th></th>\n",
       "      <th>publisher</th>\n",
       "      <th>genres</th>\n",
       "      <th>app_name</th>\n",
       "      <th>title</th>\n",
       "      <th>price</th>\n",
       "      <th>early_access</th>\n",
       "      <th>id</th>\n",
       "      <th>developer</th>\n",
       "      <th>Year</th>\n",
       "    </tr>\n",
       "  </thead>\n",
       "  <tbody>\n",
       "    <tr>\n",
       "      <th>0</th>\n",
       "      <td>Kotoshiro</td>\n",
       "      <td>Action</td>\n",
       "      <td>Lost Summoner Kitty</td>\n",
       "      <td>Lost Summoner Kitty</td>\n",
       "      <td>4.99</td>\n",
       "      <td>False</td>\n",
       "      <td>761140</td>\n",
       "      <td>Kotoshiro</td>\n",
       "      <td>2018.0</td>\n",
       "    </tr>\n",
       "    <tr>\n",
       "      <th>5</th>\n",
       "      <td>Making Fun, Inc.</td>\n",
       "      <td>Free to Play</td>\n",
       "      <td>Ironbound</td>\n",
       "      <td>Ironbound</td>\n",
       "      <td>0.00</td>\n",
       "      <td>False</td>\n",
       "      <td>643980</td>\n",
       "      <td>Secret Level SRL</td>\n",
       "      <td>2018.0</td>\n",
       "    </tr>\n",
       "    <tr>\n",
       "      <th>9</th>\n",
       "      <td>Poolians.com</td>\n",
       "      <td>Casual</td>\n",
       "      <td>Real Pool 3D - Poolians</td>\n",
       "      <td>Real Pool 3D - Poolians</td>\n",
       "      <td>0.00</td>\n",
       "      <td>False</td>\n",
       "      <td>670290</td>\n",
       "      <td>Poolians.com</td>\n",
       "      <td>2017.0</td>\n",
       "    </tr>\n",
       "    <tr>\n",
       "      <th>14</th>\n",
       "      <td>彼岸领域</td>\n",
       "      <td>Action</td>\n",
       "      <td>弹炸人2222</td>\n",
       "      <td>弹炸人2222</td>\n",
       "      <td>0.99</td>\n",
       "      <td>False</td>\n",
       "      <td>767400</td>\n",
       "      <td>彼岸领域</td>\n",
       "      <td>2017.0</td>\n",
       "    </tr>\n",
       "    <tr>\n",
       "      <th>17</th>\n",
       "      <td>Trickjump Games Ltd</td>\n",
       "      <td>Action</td>\n",
       "      <td>Battle Royale Trainer</td>\n",
       "      <td>Battle Royale Trainer</td>\n",
       "      <td>3.99</td>\n",
       "      <td>False</td>\n",
       "      <td>772540</td>\n",
       "      <td>Trickjump Games Ltd</td>\n",
       "      <td>2018.0</td>\n",
       "    </tr>\n",
       "    <tr>\n",
       "      <th>...</th>\n",
       "      <td>...</td>\n",
       "      <td>...</td>\n",
       "      <td>...</td>\n",
       "      <td>...</td>\n",
       "      <td>...</td>\n",
       "      <td>...</td>\n",
       "      <td>...</td>\n",
       "      <td>...</td>\n",
       "      <td>...</td>\n",
       "    </tr>\n",
       "    <tr>\n",
       "      <th>71485</th>\n",
       "      <td>Bidoniera Games</td>\n",
       "      <td>Action</td>\n",
       "      <td>Kebab it Up!</td>\n",
       "      <td>Kebab it Up!</td>\n",
       "      <td>1.99</td>\n",
       "      <td>False</td>\n",
       "      <td>745400</td>\n",
       "      <td>Bidoniera Games</td>\n",
       "      <td>2018.0</td>\n",
       "    </tr>\n",
       "    <tr>\n",
       "      <th>71489</th>\n",
       "      <td>Ghost_RUS Games</td>\n",
       "      <td>Casual</td>\n",
       "      <td>Colony On Mars</td>\n",
       "      <td>Colony On Mars</td>\n",
       "      <td>1.99</td>\n",
       "      <td>False</td>\n",
       "      <td>773640</td>\n",
       "      <td>Nikita \"Ghost_RUS\"</td>\n",
       "      <td>2018.0</td>\n",
       "    </tr>\n",
       "    <tr>\n",
       "      <th>71493</th>\n",
       "      <td>Sacada</td>\n",
       "      <td>Casual</td>\n",
       "      <td>LOGistICAL: South Africa</td>\n",
       "      <td>LOGistICAL: South Africa</td>\n",
       "      <td>4.99</td>\n",
       "      <td>False</td>\n",
       "      <td>733530</td>\n",
       "      <td>Sacada</td>\n",
       "      <td>2018.0</td>\n",
       "    </tr>\n",
       "    <tr>\n",
       "      <th>71496</th>\n",
       "      <td>Laush Studio</td>\n",
       "      <td>Indie</td>\n",
       "      <td>Russian Roads</td>\n",
       "      <td>Russian Roads</td>\n",
       "      <td>1.99</td>\n",
       "      <td>False</td>\n",
       "      <td>610660</td>\n",
       "      <td>Laush Dmitriy Sergeevich</td>\n",
       "      <td>2018.0</td>\n",
       "    </tr>\n",
       "    <tr>\n",
       "      <th>71499</th>\n",
       "      <td>SIXNAILS</td>\n",
       "      <td>Casual</td>\n",
       "      <td>EXIT 2 - Directions</td>\n",
       "      <td>EXIT 2 - Directions</td>\n",
       "      <td>4.99</td>\n",
       "      <td>False</td>\n",
       "      <td>658870</td>\n",
       "      <td>xropi,stev3ns</td>\n",
       "      <td>2017.0</td>\n",
       "    </tr>\n",
       "  </tbody>\n",
       "</table>\n",
       "<p>28810 rows × 9 columns</p>\n",
       "</div>"
      ],
      "text/plain": [
       "                 publisher        genres                  app_name  \\\n",
       "0                Kotoshiro        Action       Lost Summoner Kitty   \n",
       "5         Making Fun, Inc.  Free to Play                 Ironbound   \n",
       "9             Poolians.com        Casual   Real Pool 3D - Poolians   \n",
       "14                    彼岸领域        Action                   弹炸人2222   \n",
       "17     Trickjump Games Ltd        Action     Battle Royale Trainer   \n",
       "...                    ...           ...                       ...   \n",
       "71485      Bidoniera Games        Action              Kebab it Up!   \n",
       "71489      Ghost_RUS Games        Casual            Colony On Mars   \n",
       "71493               Sacada        Casual  LOGistICAL: South Africa   \n",
       "71496         Laush Studio         Indie             Russian Roads   \n",
       "71499             SIXNAILS        Casual       EXIT 2 - Directions   \n",
       "\n",
       "                          title  price  early_access      id  \\\n",
       "0           Lost Summoner Kitty   4.99         False  761140   \n",
       "5                     Ironbound   0.00         False  643980   \n",
       "9       Real Pool 3D - Poolians   0.00         False  670290   \n",
       "14                      弹炸人2222   0.99         False  767400   \n",
       "17        Battle Royale Trainer   3.99         False  772540   \n",
       "...                         ...    ...           ...     ...   \n",
       "71485              Kebab it Up!   1.99         False  745400   \n",
       "71489            Colony On Mars   1.99         False  773640   \n",
       "71493  LOGistICAL: South Africa   4.99         False  733530   \n",
       "71496             Russian Roads   1.99         False  610660   \n",
       "71499       EXIT 2 - Directions   4.99         False  658870   \n",
       "\n",
       "                      developer    Year  \n",
       "0                     Kotoshiro  2018.0  \n",
       "5              Secret Level SRL  2018.0  \n",
       "9                  Poolians.com  2017.0  \n",
       "14                         彼岸领域  2017.0  \n",
       "17          Trickjump Games Ltd  2018.0  \n",
       "...                         ...     ...  \n",
       "71485           Bidoniera Games  2018.0  \n",
       "71489        Nikita \"Ghost_RUS\"  2018.0  \n",
       "71493                    Sacada  2018.0  \n",
       "71496  Laush Dmitriy Sergeevich  2018.0  \n",
       "71499             xropi,stev3ns  2017.0  \n",
       "\n",
       "[28810 rows x 9 columns]"
      ]
     },
     "execution_count": 403,
     "metadata": {},
     "output_type": "execute_result"
    }
   ],
   "source": [
    "data_games"
   ]
  },
  {
   "cell_type": "code",
   "execution_count": 8,
   "metadata": {},
   "outputs": [],
   "source": [
    "#cambiar el nombre de la columna 'id' por el de 'item_id'\n",
    "data_games.rename(columns={'id': 'item_id'}, inplace=True)"
   ]
  },
  {
   "cell_type": "code",
   "execution_count": 9,
   "metadata": {},
   "outputs": [
    {
     "data": {
      "text/html": [
       "<div>\n",
       "<style scoped>\n",
       "    .dataframe tbody tr th:only-of-type {\n",
       "        vertical-align: middle;\n",
       "    }\n",
       "\n",
       "    .dataframe tbody tr th {\n",
       "        vertical-align: top;\n",
       "    }\n",
       "\n",
       "    .dataframe thead th {\n",
       "        text-align: right;\n",
       "    }\n",
       "</style>\n",
       "<table border=\"1\" class=\"dataframe\">\n",
       "  <thead>\n",
       "    <tr style=\"text-align: right;\">\n",
       "      <th></th>\n",
       "      <th>publisher</th>\n",
       "      <th>genres</th>\n",
       "      <th>app_name</th>\n",
       "      <th>title</th>\n",
       "      <th>price</th>\n",
       "      <th>early_access</th>\n",
       "      <th>item_id</th>\n",
       "      <th>developer</th>\n",
       "      <th>Year</th>\n",
       "    </tr>\n",
       "  </thead>\n",
       "  <tbody>\n",
       "    <tr>\n",
       "      <th>0</th>\n",
       "      <td>Kotoshiro</td>\n",
       "      <td>Action</td>\n",
       "      <td>Lost Summoner Kitty</td>\n",
       "      <td>Lost Summoner Kitty</td>\n",
       "      <td>4.99</td>\n",
       "      <td>False</td>\n",
       "      <td>761140</td>\n",
       "      <td>Kotoshiro</td>\n",
       "      <td>2018.0</td>\n",
       "    </tr>\n",
       "    <tr>\n",
       "      <th>5</th>\n",
       "      <td>Making Fun, Inc.</td>\n",
       "      <td>Free to Play</td>\n",
       "      <td>Ironbound</td>\n",
       "      <td>Ironbound</td>\n",
       "      <td>0.00</td>\n",
       "      <td>False</td>\n",
       "      <td>643980</td>\n",
       "      <td>Secret Level SRL</td>\n",
       "      <td>2018.0</td>\n",
       "    </tr>\n",
       "    <tr>\n",
       "      <th>9</th>\n",
       "      <td>Poolians.com</td>\n",
       "      <td>Casual</td>\n",
       "      <td>Real Pool 3D - Poolians</td>\n",
       "      <td>Real Pool 3D - Poolians</td>\n",
       "      <td>0.00</td>\n",
       "      <td>False</td>\n",
       "      <td>670290</td>\n",
       "      <td>Poolians.com</td>\n",
       "      <td>2017.0</td>\n",
       "    </tr>\n",
       "    <tr>\n",
       "      <th>14</th>\n",
       "      <td>彼岸领域</td>\n",
       "      <td>Action</td>\n",
       "      <td>弹炸人2222</td>\n",
       "      <td>弹炸人2222</td>\n",
       "      <td>0.99</td>\n",
       "      <td>False</td>\n",
       "      <td>767400</td>\n",
       "      <td>彼岸领域</td>\n",
       "      <td>2017.0</td>\n",
       "    </tr>\n",
       "    <tr>\n",
       "      <th>17</th>\n",
       "      <td>Trickjump Games Ltd</td>\n",
       "      <td>Action</td>\n",
       "      <td>Battle Royale Trainer</td>\n",
       "      <td>Battle Royale Trainer</td>\n",
       "      <td>3.99</td>\n",
       "      <td>False</td>\n",
       "      <td>772540</td>\n",
       "      <td>Trickjump Games Ltd</td>\n",
       "      <td>2018.0</td>\n",
       "    </tr>\n",
       "    <tr>\n",
       "      <th>...</th>\n",
       "      <td>...</td>\n",
       "      <td>...</td>\n",
       "      <td>...</td>\n",
       "      <td>...</td>\n",
       "      <td>...</td>\n",
       "      <td>...</td>\n",
       "      <td>...</td>\n",
       "      <td>...</td>\n",
       "      <td>...</td>\n",
       "    </tr>\n",
       "    <tr>\n",
       "      <th>71485</th>\n",
       "      <td>Bidoniera Games</td>\n",
       "      <td>Action</td>\n",
       "      <td>Kebab it Up!</td>\n",
       "      <td>Kebab it Up!</td>\n",
       "      <td>1.99</td>\n",
       "      <td>False</td>\n",
       "      <td>745400</td>\n",
       "      <td>Bidoniera Games</td>\n",
       "      <td>2018.0</td>\n",
       "    </tr>\n",
       "    <tr>\n",
       "      <th>71489</th>\n",
       "      <td>Ghost_RUS Games</td>\n",
       "      <td>Casual</td>\n",
       "      <td>Colony On Mars</td>\n",
       "      <td>Colony On Mars</td>\n",
       "      <td>1.99</td>\n",
       "      <td>False</td>\n",
       "      <td>773640</td>\n",
       "      <td>Nikita \"Ghost_RUS\"</td>\n",
       "      <td>2018.0</td>\n",
       "    </tr>\n",
       "    <tr>\n",
       "      <th>71493</th>\n",
       "      <td>Sacada</td>\n",
       "      <td>Casual</td>\n",
       "      <td>LOGistICAL: South Africa</td>\n",
       "      <td>LOGistICAL: South Africa</td>\n",
       "      <td>4.99</td>\n",
       "      <td>False</td>\n",
       "      <td>733530</td>\n",
       "      <td>Sacada</td>\n",
       "      <td>2018.0</td>\n",
       "    </tr>\n",
       "    <tr>\n",
       "      <th>71496</th>\n",
       "      <td>Laush Studio</td>\n",
       "      <td>Indie</td>\n",
       "      <td>Russian Roads</td>\n",
       "      <td>Russian Roads</td>\n",
       "      <td>1.99</td>\n",
       "      <td>False</td>\n",
       "      <td>610660</td>\n",
       "      <td>Laush Dmitriy Sergeevich</td>\n",
       "      <td>2018.0</td>\n",
       "    </tr>\n",
       "    <tr>\n",
       "      <th>71499</th>\n",
       "      <td>SIXNAILS</td>\n",
       "      <td>Casual</td>\n",
       "      <td>EXIT 2 - Directions</td>\n",
       "      <td>EXIT 2 - Directions</td>\n",
       "      <td>4.99</td>\n",
       "      <td>False</td>\n",
       "      <td>658870</td>\n",
       "      <td>xropi,stev3ns</td>\n",
       "      <td>2017.0</td>\n",
       "    </tr>\n",
       "  </tbody>\n",
       "</table>\n",
       "<p>28810 rows × 9 columns</p>\n",
       "</div>"
      ],
      "text/plain": [
       "                 publisher        genres                  app_name  \\\n",
       "0                Kotoshiro        Action       Lost Summoner Kitty   \n",
       "5         Making Fun, Inc.  Free to Play                 Ironbound   \n",
       "9             Poolians.com        Casual   Real Pool 3D - Poolians   \n",
       "14                    彼岸领域        Action                   弹炸人2222   \n",
       "17     Trickjump Games Ltd        Action     Battle Royale Trainer   \n",
       "...                    ...           ...                       ...   \n",
       "71485      Bidoniera Games        Action              Kebab it Up!   \n",
       "71489      Ghost_RUS Games        Casual            Colony On Mars   \n",
       "71493               Sacada        Casual  LOGistICAL: South Africa   \n",
       "71496         Laush Studio         Indie             Russian Roads   \n",
       "71499             SIXNAILS        Casual       EXIT 2 - Directions   \n",
       "\n",
       "                          title  price  early_access item_id  \\\n",
       "0           Lost Summoner Kitty   4.99         False  761140   \n",
       "5                     Ironbound   0.00         False  643980   \n",
       "9       Real Pool 3D - Poolians   0.00         False  670290   \n",
       "14                      弹炸人2222   0.99         False  767400   \n",
       "17        Battle Royale Trainer   3.99         False  772540   \n",
       "...                         ...    ...           ...     ...   \n",
       "71485              Kebab it Up!   1.99         False  745400   \n",
       "71489            Colony On Mars   1.99         False  773640   \n",
       "71493  LOGistICAL: South Africa   4.99         False  733530   \n",
       "71496             Russian Roads   1.99         False  610660   \n",
       "71499       EXIT 2 - Directions   4.99         False  658870   \n",
       "\n",
       "                      developer    Year  \n",
       "0                     Kotoshiro  2018.0  \n",
       "5              Secret Level SRL  2018.0  \n",
       "9                  Poolians.com  2017.0  \n",
       "14                         彼岸领域  2017.0  \n",
       "17          Trickjump Games Ltd  2018.0  \n",
       "...                         ...     ...  \n",
       "71485           Bidoniera Games  2018.0  \n",
       "71489        Nikita \"Ghost_RUS\"  2018.0  \n",
       "71493                    Sacada  2018.0  \n",
       "71496  Laush Dmitriy Sergeevich  2018.0  \n",
       "71499             xropi,stev3ns  2017.0  \n",
       "\n",
       "[28810 rows x 9 columns]"
      ]
     },
     "execution_count": 9,
     "metadata": {},
     "output_type": "execute_result"
    }
   ],
   "source": [
    "data_games"
   ]
  },
  {
   "cell_type": "code",
   "execution_count": 10,
   "metadata": {},
   "outputs": [],
   "source": [
    "data_review = pd.merge(data_review, data_games, on = 'item_id', how= 'inner', indicator=True)"
   ]
  },
  {
   "cell_type": "code",
   "execution_count": 11,
   "metadata": {},
   "outputs": [],
   "source": [
    "data_review = data_review.sample(n=1000, random_state=40)"
   ]
  },
  {
   "cell_type": "code",
   "execution_count": 12,
   "metadata": {},
   "outputs": [
    {
     "data": {
      "text/html": [
       "<div>\n",
       "<style scoped>\n",
       "    .dataframe tbody tr th:only-of-type {\n",
       "        vertical-align: middle;\n",
       "    }\n",
       "\n",
       "    .dataframe tbody tr th {\n",
       "        vertical-align: top;\n",
       "    }\n",
       "\n",
       "    .dataframe thead th {\n",
       "        text-align: right;\n",
       "    }\n",
       "</style>\n",
       "<table border=\"1\" class=\"dataframe\">\n",
       "  <thead>\n",
       "    <tr style=\"text-align: right;\">\n",
       "      <th></th>\n",
       "      <th>item_id</th>\n",
       "      <th>feeling_negative</th>\n",
       "      <th>feeling_positive</th>\n",
       "      <th>feeling_neutral</th>\n",
       "      <th>publisher</th>\n",
       "      <th>genres</th>\n",
       "      <th>app_name</th>\n",
       "      <th>title</th>\n",
       "      <th>price</th>\n",
       "      <th>early_access</th>\n",
       "      <th>developer</th>\n",
       "      <th>Year</th>\n",
       "      <th>_merge</th>\n",
       "    </tr>\n",
       "  </thead>\n",
       "  <tbody>\n",
       "    <tr>\n",
       "      <th>2990</th>\n",
       "      <td>72840</td>\n",
       "      <td>0</td>\n",
       "      <td>1</td>\n",
       "      <td>0</td>\n",
       "      <td>Bethesda Softworks</td>\n",
       "      <td>Action</td>\n",
       "      <td>Fallout New Vegas®: Gun Runners’ Arsenal™</td>\n",
       "      <td>Fallout New Vegas®: Gun Runners’ Arsenal™</td>\n",
       "      <td>1.99</td>\n",
       "      <td>False</td>\n",
       "      <td>Obsidian Entertainment</td>\n",
       "      <td>2011.0</td>\n",
       "      <td>both</td>\n",
       "    </tr>\n",
       "    <tr>\n",
       "      <th>2400</th>\n",
       "      <td>393530</td>\n",
       "      <td>0</td>\n",
       "      <td>1</td>\n",
       "      <td>1</td>\n",
       "      <td>PlayFlock</td>\n",
       "      <td>Adventure</td>\n",
       "      <td>Insanity Clicker</td>\n",
       "      <td>Insanity Clicker</td>\n",
       "      <td>0.00</td>\n",
       "      <td>False</td>\n",
       "      <td>PlayFlock</td>\n",
       "      <td>2016.0</td>\n",
       "      <td>both</td>\n",
       "    </tr>\n",
       "    <tr>\n",
       "      <th>314</th>\n",
       "      <td>210898</td>\n",
       "      <td>1</td>\n",
       "      <td>1</td>\n",
       "      <td>0</td>\n",
       "      <td>Paradox Interactive</td>\n",
       "      <td>Strategy</td>\n",
       "      <td>Crusader Kings II: Mediterranean Portraits</td>\n",
       "      <td>Crusader Kings II: Mediterranean Portraits</td>\n",
       "      <td>1.99</td>\n",
       "      <td>False</td>\n",
       "      <td>Paradox Development Studio</td>\n",
       "      <td>2013.0</td>\n",
       "      <td>both</td>\n",
       "    </tr>\n",
       "    <tr>\n",
       "      <th>2575</th>\n",
       "      <td>41700</td>\n",
       "      <td>0</td>\n",
       "      <td>8</td>\n",
       "      <td>1</td>\n",
       "      <td>GSC Game World</td>\n",
       "      <td>Action</td>\n",
       "      <td>S.T.A.L.K.E.R.: Call of Pripyat</td>\n",
       "      <td>S.T.A.L.K.E.R.: Call of Pripyat</td>\n",
       "      <td>19.99</td>\n",
       "      <td>False</td>\n",
       "      <td>GSC Game World</td>\n",
       "      <td>2010.0</td>\n",
       "      <td>both</td>\n",
       "    </tr>\n",
       "    <tr>\n",
       "      <th>1830</th>\n",
       "      <td>335000</td>\n",
       "      <td>0</td>\n",
       "      <td>1</td>\n",
       "      <td>0</td>\n",
       "      <td>OhNoo Studio</td>\n",
       "      <td>Adventure</td>\n",
       "      <td>Tormentum - Dark Sorrow</td>\n",
       "      <td>Tormentum - Dark Sorrow</td>\n",
       "      <td>11.99</td>\n",
       "      <td>False</td>\n",
       "      <td>OhNoo Studio</td>\n",
       "      <td>2015.0</td>\n",
       "      <td>both</td>\n",
       "    </tr>\n",
       "  </tbody>\n",
       "</table>\n",
       "</div>"
      ],
      "text/plain": [
       "     item_id  feeling_negative  feeling_positive  feeling_neutral  \\\n",
       "2990   72840                 0                 1                0   \n",
       "2400  393530                 0                 1                1   \n",
       "314   210898                 1                 1                0   \n",
       "2575   41700                 0                 8                1   \n",
       "1830  335000                 0                 1                0   \n",
       "\n",
       "                publisher     genres  \\\n",
       "2990   Bethesda Softworks     Action   \n",
       "2400            PlayFlock  Adventure   \n",
       "314   Paradox Interactive   Strategy   \n",
       "2575       GSC Game World     Action   \n",
       "1830         OhNoo Studio  Adventure   \n",
       "\n",
       "                                        app_name  \\\n",
       "2990   Fallout New Vegas®: Gun Runners’ Arsenal™   \n",
       "2400                            Insanity Clicker   \n",
       "314   Crusader Kings II: Mediterranean Portraits   \n",
       "2575             S.T.A.L.K.E.R.: Call of Pripyat   \n",
       "1830                     Tormentum - Dark Sorrow   \n",
       "\n",
       "                                           title  price  early_access  \\\n",
       "2990   Fallout New Vegas®: Gun Runners’ Arsenal™   1.99         False   \n",
       "2400                            Insanity Clicker   0.00         False   \n",
       "314   Crusader Kings II: Mediterranean Portraits   1.99         False   \n",
       "2575             S.T.A.L.K.E.R.: Call of Pripyat  19.99         False   \n",
       "1830                     Tormentum - Dark Sorrow  11.99         False   \n",
       "\n",
       "                       developer    Year _merge  \n",
       "2990      Obsidian Entertainment  2011.0   both  \n",
       "2400                   PlayFlock  2016.0   both  \n",
       "314   Paradox Development Studio  2013.0   both  \n",
       "2575              GSC Game World  2010.0   both  \n",
       "1830                OhNoo Studio  2015.0   both  "
      ]
     },
     "execution_count": 12,
     "metadata": {},
     "output_type": "execute_result"
    }
   ],
   "source": [
    "data_review.head()"
   ]
  },
  {
   "cell_type": "code",
   "execution_count": 13,
   "metadata": {},
   "outputs": [
    {
     "data": {
      "text/plain": [
       "(1000, 13)"
      ]
     },
     "execution_count": 13,
     "metadata": {},
     "output_type": "execute_result"
    }
   ],
   "source": [
    "data_review.shape"
   ]
  },
  {
   "cell_type": "code",
   "execution_count": 14,
   "metadata": {},
   "outputs": [],
   "source": [
    "data_tmp = data_review[['genres', 'feeling_negative', 'feeling_positive', 'feeling_neutral', 'item_id']]"
   ]
  },
  {
   "cell_type": "code",
   "execution_count": 15,
   "metadata": {},
   "outputs": [
    {
     "data": {
      "text/plain": [
       "genres              object\n",
       "feeling_negative     int64\n",
       "feeling_positive     int64\n",
       "feeling_neutral      int64\n",
       "item_id             object\n",
       "dtype: object"
      ]
     },
     "execution_count": 15,
     "metadata": {},
     "output_type": "execute_result"
    }
   ],
   "source": [
    "data_tmp.dtypes"
   ]
  },
  {
   "cell_type": "code",
   "execution_count": 28,
   "metadata": {},
   "outputs": [
    {
     "data": {
      "text/html": [
       "<div>\n",
       "<style scoped>\n",
       "    .dataframe tbody tr th:only-of-type {\n",
       "        vertical-align: middle;\n",
       "    }\n",
       "\n",
       "    .dataframe tbody tr th {\n",
       "        vertical-align: top;\n",
       "    }\n",
       "\n",
       "    .dataframe thead th {\n",
       "        text-align: right;\n",
       "    }\n",
       "</style>\n",
       "<table border=\"1\" class=\"dataframe\">\n",
       "  <thead>\n",
       "    <tr style=\"text-align: right;\">\n",
       "      <th></th>\n",
       "      <th>genres</th>\n",
       "      <th>feeling_negative</th>\n",
       "      <th>feeling_positive</th>\n",
       "      <th>feeling_neutral</th>\n",
       "      <th>item_id</th>\n",
       "    </tr>\n",
       "  </thead>\n",
       "  <tbody>\n",
       "    <tr>\n",
       "      <th>1942</th>\n",
       "      <td>Indie</td>\n",
       "      <td>0</td>\n",
       "      <td>3</td>\n",
       "      <td>0</td>\n",
       "      <td>344770</td>\n",
       "    </tr>\n",
       "    <tr>\n",
       "      <th>496</th>\n",
       "      <td>Action</td>\n",
       "      <td>1</td>\n",
       "      <td>2</td>\n",
       "      <td>0</td>\n",
       "      <td>224960</td>\n",
       "    </tr>\n",
       "    <tr>\n",
       "      <th>1004</th>\n",
       "      <td>Indie</td>\n",
       "      <td>18</td>\n",
       "      <td>18</td>\n",
       "      <td>2</td>\n",
       "      <td>262060</td>\n",
       "    </tr>\n",
       "    <tr>\n",
       "      <th>2463</th>\n",
       "      <td>Action</td>\n",
       "      <td>0</td>\n",
       "      <td>1</td>\n",
       "      <td>0</td>\n",
       "      <td>401810</td>\n",
       "    </tr>\n",
       "    <tr>\n",
       "      <th>2739</th>\n",
       "      <td>Indie</td>\n",
       "      <td>0</td>\n",
       "      <td>1</td>\n",
       "      <td>0</td>\n",
       "      <td>449710</td>\n",
       "    </tr>\n",
       "  </tbody>\n",
       "</table>\n",
       "</div>"
      ],
      "text/plain": [
       "      genres  feeling_negative  feeling_positive  feeling_neutral  item_id\n",
       "1942   Indie                 0                 3                0   344770\n",
       "496   Action                 1                 2                0   224960\n",
       "1004   Indie                18                18                2   262060\n",
       "2463  Action                 0                 1                0   401810\n",
       "2739   Indie                 0                 1                0   449710"
      ]
     },
     "execution_count": 28,
     "metadata": {},
     "output_type": "execute_result"
    }
   ],
   "source": [
    "data_tmp.head(5)"
   ]
  },
  {
   "cell_type": "code",
   "execution_count": 17,
   "metadata": {},
   "outputs": [],
   "source": [
    "#data_review.drop(['_merge'], inplace=True, axis=1)"
   ]
  },
  {
   "cell_type": "code",
   "execution_count": 18,
   "metadata": {},
   "outputs": [
    {
     "data": {
      "text/plain": [
       "genres              0\n",
       "feeling_negative    0\n",
       "feeling_positive    0\n",
       "feeling_neutral     0\n",
       "item_id             0\n",
       "dtype: int64"
      ]
     },
     "execution_count": 18,
     "metadata": {},
     "output_type": "execute_result"
    }
   ],
   "source": [
    "data_tmp.isnull().sum()"
   ]
  },
  {
   "cell_type": "code",
   "execution_count": 19,
   "metadata": {},
   "outputs": [
    {
     "data": {
      "text/plain": [
       "0"
      ]
     },
     "execution_count": 19,
     "metadata": {},
     "output_type": "execute_result"
    }
   ],
   "source": [
    "data_tmp.duplicated().sum()"
   ]
  },
  {
   "cell_type": "code",
   "execution_count": 20,
   "metadata": {},
   "outputs": [
    {
     "name": "stderr",
     "output_type": "stream",
     "text": [
      "C:\\Users\\BORDADO Y ESTAMPADO\\AppData\\Local\\Temp\\ipykernel_3908\\4134813729.py:1: SettingWithCopyWarning: \n",
      "A value is trying to be set on a copy of a slice from a DataFrame\n",
      "\n",
      "See the caveats in the documentation: https://pandas.pydata.org/pandas-docs/stable/user_guide/indexing.html#returning-a-view-versus-a-copy\n",
      "  data_tmp.drop_duplicates(inplace=True)\n"
     ]
    }
   ],
   "source": [
    "data_tmp.drop_duplicates(inplace=True) "
   ]
  },
  {
   "cell_type": "code",
   "execution_count": 21,
   "metadata": {},
   "outputs": [],
   "source": [
    "data_tmp = data_tmp.sample(n=1000, random_state=38)"
   ]
  },
  {
   "cell_type": "code",
   "execution_count": 22,
   "metadata": {},
   "outputs": [],
   "source": [
    "#si el archivo base_modelo_clean.parquet NO EXISTE debe de omitirse este paso. Continuar en el vectorizer\n",
    "data_review = pd.read_parquet(\"./dataSet/base_modelo_clean.parquet\")"
   ]
  },
  {
   "cell_type": "code",
   "execution_count": 23,
   "metadata": {},
   "outputs": [
    {
     "data": {
      "text/html": [
       "<div>\n",
       "<style scoped>\n",
       "    .dataframe tbody tr th:only-of-type {\n",
       "        vertical-align: middle;\n",
       "    }\n",
       "\n",
       "    .dataframe tbody tr th {\n",
       "        vertical-align: top;\n",
       "    }\n",
       "\n",
       "    .dataframe thead th {\n",
       "        text-align: right;\n",
       "    }\n",
       "</style>\n",
       "<table border=\"1\" class=\"dataframe\">\n",
       "  <thead>\n",
       "    <tr style=\"text-align: right;\">\n",
       "      <th></th>\n",
       "      <th>genres</th>\n",
       "      <th>feeling_negative</th>\n",
       "      <th>feeling_positive</th>\n",
       "      <th>feeling_neutral</th>\n",
       "      <th>item_id</th>\n",
       "    </tr>\n",
       "  </thead>\n",
       "  <tbody>\n",
       "    <tr>\n",
       "      <th>1942</th>\n",
       "      <td>Indie</td>\n",
       "      <td>0</td>\n",
       "      <td>3</td>\n",
       "      <td>0</td>\n",
       "      <td>344770</td>\n",
       "    </tr>\n",
       "    <tr>\n",
       "      <th>496</th>\n",
       "      <td>Action</td>\n",
       "      <td>1</td>\n",
       "      <td>2</td>\n",
       "      <td>0</td>\n",
       "      <td>224960</td>\n",
       "    </tr>\n",
       "    <tr>\n",
       "      <th>1004</th>\n",
       "      <td>Indie</td>\n",
       "      <td>18</td>\n",
       "      <td>18</td>\n",
       "      <td>2</td>\n",
       "      <td>262060</td>\n",
       "    </tr>\n",
       "    <tr>\n",
       "      <th>2463</th>\n",
       "      <td>Action</td>\n",
       "      <td>0</td>\n",
       "      <td>1</td>\n",
       "      <td>0</td>\n",
       "      <td>401810</td>\n",
       "    </tr>\n",
       "    <tr>\n",
       "      <th>2739</th>\n",
       "      <td>Indie</td>\n",
       "      <td>0</td>\n",
       "      <td>1</td>\n",
       "      <td>0</td>\n",
       "      <td>449710</td>\n",
       "    </tr>\n",
       "  </tbody>\n",
       "</table>\n",
       "</div>"
      ],
      "text/plain": [
       "      genres  feeling_negative  feeling_positive  feeling_neutral item_id\n",
       "1942   Indie                 0                 3                0  344770\n",
       "496   Action                 1                 2                0  224960\n",
       "1004   Indie                18                18                2  262060\n",
       "2463  Action                 0                 1                0  401810\n",
       "2739   Indie                 0                 1                0  449710"
      ]
     },
     "execution_count": 23,
     "metadata": {},
     "output_type": "execute_result"
    }
   ],
   "source": [
    "data_tmp.head(5)"
   ]
  },
  {
   "cell_type": "code",
   "execution_count": 24,
   "metadata": {},
   "outputs": [
    {
     "name": "stdout",
     "output_type": "stream",
     "text": [
      "<class 'pandas.core.frame.DataFrame'>\n",
      "Index: 1000 entries, 1942 to 1324\n",
      "Data columns (total 5 columns):\n",
      " #   Column            Non-Null Count  Dtype \n",
      "---  ------            --------------  ----- \n",
      " 0   genres            1000 non-null   object\n",
      " 1   feeling_negative  1000 non-null   int64 \n",
      " 2   feeling_positive  1000 non-null   int64 \n",
      " 3   feeling_neutral   1000 non-null   int64 \n",
      " 4   item_id           1000 non-null   object\n",
      "dtypes: int64(3), object(2)\n",
      "memory usage: 46.9+ KB\n"
     ]
    }
   ],
   "source": [
    "data_tmp.info()"
   ]
  },
  {
   "cell_type": "code",
   "execution_count": 25,
   "metadata": {},
   "outputs": [],
   "source": [
    "# Convertir 'item_id' de tipo 'object' a 'int'\n",
    "data_tmp['item_id'] = data_tmp['item_id'].astype(int)"
   ]
  },
  {
   "cell_type": "code",
   "execution_count": 26,
   "metadata": {},
   "outputs": [
    {
     "data": {
      "text/plain": [
       "(1000, 5)"
      ]
     },
     "execution_count": 26,
     "metadata": {},
     "output_type": "execute_result"
    }
   ],
   "source": [
    "data_tmp.shape"
   ]
  },
  {
   "cell_type": "code",
   "execution_count": 27,
   "metadata": {},
   "outputs": [
    {
     "ename": "KeyError",
     "evalue": "'feeling_positive'",
     "output_type": "error",
     "traceback": [
      "\u001b[1;31m---------------------------------------------------------------------------\u001b[0m",
      "\u001b[1;31mKeyError\u001b[0m                                  Traceback (most recent call last)",
      "File \u001b[1;32mc:\\Users\\BORDADO Y ESTAMPADO\\AppData\\Local\\Programs\\Python\\Python311\\Lib\\site-packages\\pandas\\core\\indexes\\base.py:3802\u001b[0m, in \u001b[0;36mIndex.get_loc\u001b[1;34m(self, key)\u001b[0m\n\u001b[0;32m   3801\u001b[0m \u001b[38;5;28;01mtry\u001b[39;00m:\n\u001b[1;32m-> 3802\u001b[0m     \u001b[38;5;28;01mreturn\u001b[39;00m \u001b[38;5;28;43mself\u001b[39;49m\u001b[38;5;241;43m.\u001b[39;49m\u001b[43m_engine\u001b[49m\u001b[38;5;241;43m.\u001b[39;49m\u001b[43mget_loc\u001b[49m\u001b[43m(\u001b[49m\u001b[43mcasted_key\u001b[49m\u001b[43m)\u001b[49m\n\u001b[0;32m   3803\u001b[0m \u001b[38;5;28;01mexcept\u001b[39;00m \u001b[38;5;167;01mKeyError\u001b[39;00m \u001b[38;5;28;01mas\u001b[39;00m err:\n",
      "File \u001b[1;32mindex.pyx:153\u001b[0m, in \u001b[0;36mpandas._libs.index.IndexEngine.get_loc\u001b[1;34m()\u001b[0m\n",
      "File \u001b[1;32mindex.pyx:182\u001b[0m, in \u001b[0;36mpandas._libs.index.IndexEngine.get_loc\u001b[1;34m()\u001b[0m\n",
      "File \u001b[1;32mpandas\\\\_libs\\\\hashtable_class_helper.pxi:7081\u001b[0m, in \u001b[0;36mpandas._libs.hashtable.PyObjectHashTable.get_item\u001b[1;34m()\u001b[0m\n",
      "File \u001b[1;32mpandas\\\\_libs\\\\hashtable_class_helper.pxi:7089\u001b[0m, in \u001b[0;36mpandas._libs.hashtable.PyObjectHashTable.get_item\u001b[1;34m()\u001b[0m\n",
      "\u001b[1;31mKeyError\u001b[0m: 'feeling_positive'",
      "\nThe above exception was the direct cause of the following exception:\n",
      "\u001b[1;31mKeyError\u001b[0m                                  Traceback (most recent call last)",
      "Cell \u001b[1;32mIn[27], line 6\u001b[0m\n\u001b[0;32m      3\u001b[0m tfidf_matrix \u001b[38;5;241m=\u001b[39m vectorizer\u001b[38;5;241m.\u001b[39mfit_transform(data_tmp[\u001b[38;5;124m'\u001b[39m\u001b[38;5;124mgenres\u001b[39m\u001b[38;5;124m'\u001b[39m])\n\u001b[0;32m      5\u001b[0m \u001b[38;5;66;03m# Luego, vamos a añadir las columnas numéricas a nuestra matriz de características\u001b[39;00m\n\u001b[1;32m----> 6\u001b[0m features \u001b[38;5;241m=\u001b[39m np\u001b[38;5;241m.\u001b[39mcolumn_stack([tfidf_matrix\u001b[38;5;241m.\u001b[39mtoarray(), data_tmp[\u001b[38;5;124m'\u001b[39m\u001b[38;5;124mfeeling_negative\u001b[39m\u001b[38;5;124m'\u001b[39m], \u001b[43mdata_review\u001b[49m\u001b[43m[\u001b[49m\u001b[38;5;124;43m'\u001b[39;49m\u001b[38;5;124;43mfeeling_positive\u001b[39;49m\u001b[38;5;124;43m'\u001b[39;49m\u001b[43m]\u001b[49m, data_review[\u001b[38;5;124m'\u001b[39m\u001b[38;5;124mfeeling_neutral\u001b[39m\u001b[38;5;124m'\u001b[39m],])\n",
      "File \u001b[1;32mc:\\Users\\BORDADO Y ESTAMPADO\\AppData\\Local\\Programs\\Python\\Python311\\Lib\\site-packages\\pandas\\core\\frame.py:4090\u001b[0m, in \u001b[0;36mDataFrame.__getitem__\u001b[1;34m(self, key)\u001b[0m\n\u001b[0;32m   4088\u001b[0m \u001b[38;5;28;01mif\u001b[39;00m \u001b[38;5;28mself\u001b[39m\u001b[38;5;241m.\u001b[39mcolumns\u001b[38;5;241m.\u001b[39mnlevels \u001b[38;5;241m>\u001b[39m \u001b[38;5;241m1\u001b[39m:\n\u001b[0;32m   4089\u001b[0m     \u001b[38;5;28;01mreturn\u001b[39;00m \u001b[38;5;28mself\u001b[39m\u001b[38;5;241m.\u001b[39m_getitem_multilevel(key)\n\u001b[1;32m-> 4090\u001b[0m indexer \u001b[38;5;241m=\u001b[39m \u001b[38;5;28;43mself\u001b[39;49m\u001b[38;5;241;43m.\u001b[39;49m\u001b[43mcolumns\u001b[49m\u001b[38;5;241;43m.\u001b[39;49m\u001b[43mget_loc\u001b[49m\u001b[43m(\u001b[49m\u001b[43mkey\u001b[49m\u001b[43m)\u001b[49m\n\u001b[0;32m   4091\u001b[0m \u001b[38;5;28;01mif\u001b[39;00m is_integer(indexer):\n\u001b[0;32m   4092\u001b[0m     indexer \u001b[38;5;241m=\u001b[39m [indexer]\n",
      "File \u001b[1;32mc:\\Users\\BORDADO Y ESTAMPADO\\AppData\\Local\\Programs\\Python\\Python311\\Lib\\site-packages\\pandas\\core\\indexes\\base.py:3809\u001b[0m, in \u001b[0;36mIndex.get_loc\u001b[1;34m(self, key)\u001b[0m\n\u001b[0;32m   3804\u001b[0m     \u001b[38;5;28;01mif\u001b[39;00m \u001b[38;5;28misinstance\u001b[39m(casted_key, \u001b[38;5;28mslice\u001b[39m) \u001b[38;5;129;01mor\u001b[39;00m (\n\u001b[0;32m   3805\u001b[0m         \u001b[38;5;28misinstance\u001b[39m(casted_key, abc\u001b[38;5;241m.\u001b[39mIterable)\n\u001b[0;32m   3806\u001b[0m         \u001b[38;5;129;01mand\u001b[39;00m \u001b[38;5;28many\u001b[39m(\u001b[38;5;28misinstance\u001b[39m(x, \u001b[38;5;28mslice\u001b[39m) \u001b[38;5;28;01mfor\u001b[39;00m x \u001b[38;5;129;01min\u001b[39;00m casted_key)\n\u001b[0;32m   3807\u001b[0m     ):\n\u001b[0;32m   3808\u001b[0m         \u001b[38;5;28;01mraise\u001b[39;00m InvalidIndexError(key)\n\u001b[1;32m-> 3809\u001b[0m     \u001b[38;5;28;01mraise\u001b[39;00m \u001b[38;5;167;01mKeyError\u001b[39;00m(key) \u001b[38;5;28;01mfrom\u001b[39;00m \u001b[38;5;21;01merr\u001b[39;00m\n\u001b[0;32m   3810\u001b[0m \u001b[38;5;28;01mexcept\u001b[39;00m \u001b[38;5;167;01mTypeError\u001b[39;00m:\n\u001b[0;32m   3811\u001b[0m     \u001b[38;5;66;03m# If we have a listlike key, _check_indexing_error will raise\u001b[39;00m\n\u001b[0;32m   3812\u001b[0m     \u001b[38;5;66;03m#  InvalidIndexError. Otherwise we fall through and re-raise\u001b[39;00m\n\u001b[0;32m   3813\u001b[0m     \u001b[38;5;66;03m#  the TypeError.\u001b[39;00m\n\u001b[0;32m   3814\u001b[0m     \u001b[38;5;28mself\u001b[39m\u001b[38;5;241m.\u001b[39m_check_indexing_error(key)\n",
      "\u001b[1;31mKeyError\u001b[0m: 'feeling_positive'"
     ]
    }
   ],
   "source": [
    "# Primero, vamos a convertir la columna 'nombre' a una representación numérica usando TF-IDF\n",
    "vectorizer = TfidfVectorizer()\n",
    "tfidf_matrix = vectorizer.fit_transform(data_tmp['genres'])\n",
    "\n",
    "# Luego, vamos a añadir las columnas numéricas a nuestra matriz de características\n",
    "features = np.column_stack([tfidf_matrix.toarray(), data_tmp['feeling_negative'], data_review['feeling_positive'], data_review['feeling_neutral'],])\n"
   ]
  },
  {
   "cell_type": "code",
   "execution_count": 433,
   "metadata": {},
   "outputs": [
    {
     "data": {
      "text/plain": [
       "array([[ 0.,  0.,  0., ...,  0.,  1.,  0.],\n",
       "       [ 1.,  0.,  0., ...,  1.,  1.,  1.],\n",
       "       [ 0.,  0.,  0., ..., 18.,  1.,  0.],\n",
       "       ...,\n",
       "       [ 1.,  0.,  0., ...,  2., 65., 16.],\n",
       "       [ 1.,  0.,  0., ...,  1.,  4.,  1.],\n",
       "       [ 0.,  0.,  0., ...,  0.,  4.,  0.]])"
      ]
     },
     "execution_count": 433,
     "metadata": {},
     "output_type": "execute_result"
    }
   ],
   "source": [
    "features"
   ]
  },
  {
   "cell_type": "code",
   "execution_count": 434,
   "metadata": {},
   "outputs": [],
   "source": [
    "# Reindexamos el DataFrame\n",
    "data_review = data_review.reset_index(drop=True)\n",
    "\n"
   ]
  },
  {
   "cell_type": "code",
   "execution_count": 435,
   "metadata": {},
   "outputs": [],
   "source": [
    "# Ahora, calculamos la matriz de similitud de coseno\n",
    "similarity_matrix = cosine_similarity(features)\n",
    "\n"
   ]
  },
  {
   "cell_type": "code",
   "execution_count": 437,
   "metadata": {},
   "outputs": [
    {
     "name": "stdout",
     "output_type": "stream",
     "text": [
      "Producto no encontrado\n"
     ]
    }
   ],
   "source": [
    "# Para hacer recomendaciones, puedes buscar los productos más similares a un producto dado\n",
    "id_game = 344770  # El nombre del producto para el que quieres hacer recomendaciones\n",
    "producto = data_tmp[data_tmp['item_id'] == id_game]\n",
    "\n",
    "if not producto.empty:\n",
    "    product_index = producto.index[0]\n",
    "    product_similarities = similarity_matrix[product_index]\n",
    "    most_similar_products_indices = np.argsort(-product_similarities)\n",
    "    most_similar_products = data_review.loc[most_similar_products_indices, 'item_name']\n",
    "    print(\"Los productos más similares al producto\", id_game, \"son:\")\n",
    "    print(most_similar_products)\n",
    "else:\n",
    "    print(\"Producto no encontrado\")\n"
   ]
  },
  {
   "cell_type": "code",
   "execution_count": 1,
   "metadata": {},
   "outputs": [
    {
     "ename": "NameError",
     "evalue": "name 'data_review' is not defined",
     "output_type": "error",
     "traceback": [
      "\u001b[1;31m---------------------------------------------------------------------------\u001b[0m",
      "\u001b[1;31mNameError\u001b[0m                                 Traceback (most recent call last)",
      "Cell \u001b[1;32mIn[1], line 3\u001b[0m\n\u001b[0;32m      1\u001b[0m \u001b[38;5;66;03m# Para hacer recomendaciones, puedes buscar los productos más similares a un producto dado\u001b[39;00m\n\u001b[0;32m      2\u001b[0m id_user \u001b[38;5;241m=\u001b[39m \u001b[38;5;124m'\u001b[39m\u001b[38;5;124mdiet_cola\u001b[39m\u001b[38;5;124m'\u001b[39m  \u001b[38;5;66;03m# El nombre del producto para el que quieres hacer recomendaciones\u001b[39;00m\n\u001b[1;32m----> 3\u001b[0m producto \u001b[38;5;241m=\u001b[39m \u001b[43mdata_review\u001b[49m[data_review[\u001b[38;5;124m'\u001b[39m\u001b[38;5;124muser_id\u001b[39m\u001b[38;5;124m'\u001b[39m] \u001b[38;5;241m==\u001b[39m id_user]  \u001b[38;5;66;03m# Asegúrate de que 'user_id' sea el nombre correcto de la columna\u001b[39;00m\n\u001b[0;32m      5\u001b[0m \u001b[38;5;28;01mif\u001b[39;00m \u001b[38;5;129;01mnot\u001b[39;00m producto\u001b[38;5;241m.\u001b[39mempty:\n\u001b[0;32m      6\u001b[0m     product_index \u001b[38;5;241m=\u001b[39m producto\u001b[38;5;241m.\u001b[39mindex[\u001b[38;5;241m0\u001b[39m]\n",
      "\u001b[1;31mNameError\u001b[0m: name 'data_review' is not defined"
     ]
    }
   ],
   "source": [
    "# Para hacer recomendaciones, puedes buscar los productos más similares a un producto dado\n",
    "id_user = 'diet_cola'  # El nombre del producto para el que quieres hacer recomendaciones\n",
    "producto = data_review[data_review['user_id'] == id_user]  # Asegúrate de que 'user_id' sea el nombre correcto de la columna\n",
    "\n",
    "if not producto.empty:\n",
    "    product_index = producto.index[0]\n",
    "    product_similarities = similarity_matrix[product_index]\n",
    "    most_similar_products_indices = np.argsort(-product_similarities)\n",
    "    most_similar_products = data_review.loc[most_similar_products_indices, 'genres']\n",
    "    print(\"Los productos más similares al producto\", id_user, \"son:\")\n",
    "    print(most_similar_products)\n",
    "else:\n",
    "    print(\"Producto no encontrado\")\n"
   ]
  },
  {
   "cell_type": "code",
   "execution_count": 352,
   "metadata": {},
   "outputs": [
    {
     "name": "stdout",
     "output_type": "stream",
     "text": [
      "<class 'pandas.core.frame.DataFrame'>\n",
      "RangeIndex: 1000 entries, 0 to 999\n",
      "Data columns (total 6 columns):\n",
      " #   Column             Non-Null Count  Dtype  \n",
      "---  ------             --------------  -----  \n",
      " 0   review             1000 non-null   object \n",
      " 1   item_id            1000 non-null   int32  \n",
      " 2   recommend          1000 non-null   bool   \n",
      " 3   sentimentanalysis  1000 non-null   float64\n",
      " 4   item_name          1000 non-null   object \n",
      " 5   user_id            1000 non-null   object \n",
      "dtypes: bool(1), float64(1), int32(1), object(3)\n",
      "memory usage: 36.3+ KB\n"
     ]
    }
   ],
   "source": [
    "data_review.info()"
   ]
  },
  {
   "cell_type": "code",
   "execution_count": 350,
   "metadata": {},
   "outputs": [
    {
     "name": "stdout",
     "output_type": "stream",
     "text": [
      "Se guardó el archivo ./dataSet/base_modelo_clean.parquet\n"
     ]
    }
   ],
   "source": [
    "modelo = './dataSet/base_modelo_clean.parquet'\n",
    "data_review.to_parquet(modelo, index=False)\n",
    "print(f'Se guardó el archivo {modelo}')"
   ]
  },
  {
   "cell_type": "code",
   "execution_count": 347,
   "metadata": {},
   "outputs": [
    {
     "data": {
      "text/plain": [
       "806              Tomb Raider\n",
       "5                Tomb Raider\n",
       "520              Tomb Raider\n",
       "309    Saints Row: The Third\n",
       "305        BioShock Infinite\n",
       "Name: item_name, dtype: object"
      ]
     },
     "execution_count": 347,
     "metadata": {},
     "output_type": "execute_result"
    }
   ],
   "source": [
    "most_similar_products[:5]"
   ]
  },
  {
   "cell_type": "code",
   "execution_count": 373,
   "metadata": {},
   "outputs": [],
   "source": [
    "def recomendacion_juego(id_de_producto:int):\n",
    "    modelo = pd.read_parquet('./dataSet/base_modelo_clean.parquet')\n",
    "    #Primero, vamos a convertir la columna 'item_name' a una representación numérica usando TF-IDF (Frecuencia de Terminos - Freciencia Inversa de Terminos)\n",
    "    vectorizer = TfidfVectorizer()\n",
    "    tfidf_matrix = vectorizer.fit_transform(modelo['item_name'])\n",
    "\n",
    "    #se buscan los que son similares al id del juego\n",
    "    features = np.column_stack([tfidf_matrix.toarray(), modelo['recommend'], modelo['sentimentanalysis']])\n",
    "\n",
    "    #Verificamos la existencia del Id del juego a establecer simulitud de juegos\n",
    "    result = modelo[modelo['item_id'] == id_de_producto]\n",
    "    nombre_del_juego=result.iloc[0]['item_name']\n",
    "    if result.empty:\n",
    "        return \"No hay datos para el datos para el juego seleccionado.\"\n",
    "    #Reindexamos el DataFrame\n",
    "    data_aplicativo = modelo.reset_index(drop=True)\n",
    "    \n",
    "    #Ahora, calculamos la matriz de similitud de coseno\n",
    "    similarity_matrix = cosine_similarity(features)\n",
    "\n",
    "    # Para hacer recomendaciones, puedes buscar los juegos más similares a un juego dado\n",
    "    juego = data_aplicativo[data_aplicativo['item_name'] == nombre_del_juego].index[0]\n",
    "    score = list(enumerate(similarity_matrix[juego]))\n",
    "    score= sorted(score, key=lambda x: x[1],reverse=True)\n",
    "    resultado = score[1:6]\n",
    "    total = modelo['item_name'].iloc[[i[0] for i in resultado]].tolist()\n",
    "    \n",
    "    return{'Juego Recomendado ': total}\n",
    "\n",
    "    \n"
   ]
  },
  {
   "cell_type": "code",
   "execution_count": 374,
   "metadata": {},
   "outputs": [
    {
     "data": {
      "text/plain": [
       "{'Juego Recomendado ': ['Warframe',\n",
       "  'Warframe',\n",
       "  'Warframe',\n",
       "  'Warframe',\n",
       "  'Warframe']}"
      ]
     },
     "execution_count": 374,
     "metadata": {},
     "output_type": "execute_result"
    }
   ],
   "source": [
    "recomendacion_juego(230410)"
   ]
  }
 ],
 "metadata": {
  "kernelspec": {
   "display_name": "Python 3",
   "language": "python",
   "name": "python3"
  },
  "language_info": {
   "codemirror_mode": {
    "name": "ipython",
    "version": 3
   },
   "file_extension": ".py",
   "mimetype": "text/x-python",
   "name": "python",
   "nbconvert_exporter": "python",
   "pygments_lexer": "ipython3",
   "version": "3.11.4"
  }
 },
 "nbformat": 4,
 "nbformat_minor": 2
}
